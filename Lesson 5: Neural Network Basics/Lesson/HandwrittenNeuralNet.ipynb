{
 "cells": [
  {
   "cell_type": "code",
   "execution_count": null,
   "id": "0a9d58f3",
   "metadata": {},
   "outputs": [],
   "source": [
    "# If your dumbass pushes the MNIST dataset onto the git repo I'm going to kill you"
   ]
  },
  {
   "cell_type": "code",
   "execution_count": null,
   "id": "27b9050e",
   "metadata": {},
   "outputs": [],
   "source": [
    "!pip install torch torchvision"
   ]
  },
  {
   "cell_type": "code",
   "execution_count": 1,
   "id": "36cd52ac",
   "metadata": {},
   "outputs": [],
   "source": [
    "import os\n",
    "import numpy as np\n",
    "import pandas as pd\n",
    "import matplotlib.pyplot as plt\n",
    "%matplotlib inline"
   ]
  },
  {
   "cell_type": "code",
   "execution_count": 2,
   "id": "f91fbac3",
   "metadata": {},
   "outputs": [
    {
     "name": "stdout",
     "output_type": "stream",
     "text": [
      "Downloading http://yann.lecun.com/exdb/mnist/train-images-idx3-ubyte.gz\n",
      "Failed to download (trying next):\n",
      "HTTP Error 404: Not Found\n",
      "\n",
      "Downloading https://ossci-datasets.s3.amazonaws.com/mnist/train-images-idx3-ubyte.gz\n",
      "Downloading https://ossci-datasets.s3.amazonaws.com/mnist/train-images-idx3-ubyte.gz to mnist/MNIST/raw/train-images-idx3-ubyte.gz\n"
     ]
    },
    {
     "name": "stderr",
     "output_type": "stream",
     "text": [
      "100%|██████████| 9.91M/9.91M [00:02<00:00, 4.05MB/s]\n"
     ]
    },
    {
     "name": "stdout",
     "output_type": "stream",
     "text": [
      "Extracting mnist/MNIST/raw/train-images-idx3-ubyte.gz to mnist/MNIST/raw\n",
      "\n",
      "Downloading http://yann.lecun.com/exdb/mnist/train-labels-idx1-ubyte.gz\n",
      "Failed to download (trying next):\n",
      "HTTP Error 404: Not Found\n",
      "\n",
      "Downloading https://ossci-datasets.s3.amazonaws.com/mnist/train-labels-idx1-ubyte.gz\n",
      "Downloading https://ossci-datasets.s3.amazonaws.com/mnist/train-labels-idx1-ubyte.gz to mnist/MNIST/raw/train-labels-idx1-ubyte.gz\n"
     ]
    },
    {
     "name": "stderr",
     "output_type": "stream",
     "text": [
      "100%|██████████| 28.9k/28.9k [00:00<00:00, 477kB/s]\n"
     ]
    },
    {
     "name": "stdout",
     "output_type": "stream",
     "text": [
      "Extracting mnist/MNIST/raw/train-labels-idx1-ubyte.gz to mnist/MNIST/raw\n",
      "\n",
      "Downloading http://yann.lecun.com/exdb/mnist/t10k-images-idx3-ubyte.gz\n",
      "Failed to download (trying next):\n",
      "HTTP Error 404: Not Found\n",
      "\n",
      "Downloading https://ossci-datasets.s3.amazonaws.com/mnist/t10k-images-idx3-ubyte.gz\n",
      "Downloading https://ossci-datasets.s3.amazonaws.com/mnist/t10k-images-idx3-ubyte.gz to mnist/MNIST/raw/t10k-images-idx3-ubyte.gz\n"
     ]
    },
    {
     "name": "stderr",
     "output_type": "stream",
     "text": [
      "100%|██████████| 1.65M/1.65M [00:00<00:00, 3.24MB/s]\n"
     ]
    },
    {
     "name": "stdout",
     "output_type": "stream",
     "text": [
      "Extracting mnist/MNIST/raw/t10k-images-idx3-ubyte.gz to mnist/MNIST/raw\n",
      "\n",
      "Downloading http://yann.lecun.com/exdb/mnist/t10k-labels-idx1-ubyte.gz\n",
      "Failed to download (trying next):\n",
      "HTTP Error 404: Not Found\n",
      "\n",
      "Downloading https://ossci-datasets.s3.amazonaws.com/mnist/t10k-labels-idx1-ubyte.gz\n",
      "Downloading https://ossci-datasets.s3.amazonaws.com/mnist/t10k-labels-idx1-ubyte.gz to mnist/MNIST/raw/t10k-labels-idx1-ubyte.gz\n"
     ]
    },
    {
     "name": "stderr",
     "output_type": "stream",
     "text": [
      "100%|██████████| 4.54k/4.54k [00:00<00:00, 10.3MB/s]\n"
     ]
    },
    {
     "name": "stdout",
     "output_type": "stream",
     "text": [
      "Extracting mnist/MNIST/raw/t10k-labels-idx1-ubyte.gz to mnist/MNIST/raw\n",
      "\n"
     ]
    }
   ],
   "source": [
    "# Download the dataset (DO NOT PUSH INTO THE REPO)\n",
    "# Quick Notes: The images are of handwritten digits that are 28x28 pixels and are in grayscale.\n",
    "# Each pixel has a value from 0 [pure black] to 255 [pure white]\n",
    "# There are ten classes (0-9)\n",
    "# 60000 total images (50,000 training, 10,000 test)\n",
    "\n",
    "\n",
    "from torchvision import datasets\n",
    "\n",
    "def get_mnist(data_dir='mnist'):\n",
    "    os.makedirs(data_dir, exist_ok=True)\n",
    "    train_dataset = datasets.MNIST(root=data_dir, train=True, download=True)\n",
    "    test_dataset  = datasets.MNIST(root=data_dir, train=False, download=True)\n",
    "    \n",
    "    def convert_to_numpy(dataset):\n",
    "        # dataset.data is a Torch tensor of shape (N, 28, 28)\n",
    "        # dataset.targets is a Torch tensor of shape (N,)\n",
    "        images = dataset.data.numpy()         # shape: (N, 28, 28)\n",
    "        labels = dataset.targets.numpy()        # shape: (N,)\n",
    "        \n",
    "        # Flatten each 28x28 grayscale image into a vector of 784 pixels. For Neural Networks, the input must be be a 1D vector.\n",
    "        images_flat = images.reshape(images.shape[0], -1)\n",
    "        \n",
    "        # Concatenate the labels as the first column with the flattened images.\n",
    "        data_np = np.hstack((labels.reshape(-1, 1), images_flat))\n",
    "        return data_np\n",
    "\n",
    "    train_data = convert_to_numpy(train_dataset)\n",
    "    test_data = convert_to_numpy(test_dataset)\n",
    "    \n",
    "    return train_data, test_data\n",
    "\n",
    "train_data, test_data = get_mnist()"
   ]
  },
  {
   "cell_type": "code",
   "execution_count": 3,
   "id": "3ad9fdcb",
   "metadata": {},
   "outputs": [],
   "source": [
    "# Prepare the data\n",
    "\n",
    "# Shuffle the training data (would cause model to potentially start just predicting the last seen digit if not scrambled)\n",
    "np.random.shuffle(train_data) # No need to shuffle test data since model does not change or learn from it.\n",
    "\n",
    "# Since no validation set is provided, create one for ourselves.\n",
    "val_data = train_data[:1000].T   # Transpose so that each column is an example\n",
    "Y_val = val_data[0]              # Extract the correct label for the validation set\n",
    "X_val = val_data[1:]             # Remaining rows are pixel values of images\n",
    "X_val = X_val / 255              # Normalize the pixel values to be between 0 and 1 (this is a calculation thing that has to do with floating point arithmetic and weight values)\n",
    "\n",
    "train_data = train_data[1000:].T # Transpose so that each column is one example\n",
    "Y_train = train_data[0]          # Store all correct labels\n",
    "X_train = train_data[1:]         # Remaining cols are pixel values\n",
    "X_train = X_train / 255          # Normalize\n",
    "_, m_train = X_train.shape"
   ]
  },
  {
   "cell_type": "code",
   "execution_count": 18,
   "id": "f2915d2a",
   "metadata": {},
   "outputs": [
    {
     "data": {
      "text/plain": [
       "59000"
      ]
     },
     "execution_count": 18,
     "metadata": {},
     "output_type": "execute_result"
    }
   ],
   "source": [
    "len(Y_train)"
   ]
  },
  {
   "cell_type": "markdown",
   "id": "4743b6c9",
   "metadata": {},
   "source": [
    "#### Game Plan\n",
    "\n",
    "Since we are doing everything by hand, we will have two layers that do computation (1 hidden, 1 output).\n",
    "We will use the ReLU function on the first hidden layer because it is easy to demo with and softmax on the output layer for the final prediction.\n",
    "The first layer will need to have 784 neurons (each input is 28*28*1 flattened) and the output layer will need 10 neurons (1 representing each class).\n",
    "\n",
    "- Start by initializing the network\n",
    "- Perform forward prop on batches\n",
    "- Calculate loss\n",
    "- update network\n",
    "- repreat"
   ]
  },
  {
   "cell_type": "markdown",
   "id": "3978c955",
   "metadata": {},
   "source": [
    "#### Set up"
   ]
  },
  {
   "cell_type": "code",
   "execution_count": 4,
   "id": "a310f14f",
   "metadata": {},
   "outputs": [],
   "source": [
    "def init_params(N1):\n",
    "    W1 = np.random.rand(N1, 784) - 0.5      # Weights for first hidden layer. Creates N1 number of \"neurons\" in this layer from [-0.5, 0.5]\n",
    "    b1 = b1 = np.random.rand(N1, 1) - 0.5   # Same as above but bias\n",
    "\n",
    "    W2 = np.random.rand(10, N1) - 0.5       # Must always have 10 because that is number of output classes\n",
    "    b2 = np.random.rand(10, 1) - 0.5\n",
    "    return W1, b1, W2, b2\n",
    "\n",
    "def ReLU(Z):\n",
    "    return np.maximum(Z, 0)\n",
    "\n",
    "def softmax(Z):\n",
    "    return np.exp(Z) / sum(np.exp(Z))"
   ]
  },
  {
   "cell_type": "markdown",
   "id": "4e5b3672",
   "metadata": {},
   "source": [
    "#### Forward Propagation Functions"
   ]
  },
  {
   "cell_type": "code",
   "execution_count": 5,
   "id": "b81b76bd",
   "metadata": {},
   "outputs": [],
   "source": [
    "def forward_propagation(W1, b1, W2, b2, X):\n",
    "    Z1 = W1.dot(X) + b1               # Calculate preactivation value for first hidden layer\n",
    "    A1 = ReLU(Z1)                     # Apply activation function\n",
    "    Z2 = W2.dot(A1) + b2              # Calculate preactivation value for output layer\n",
    "    A2 = softmax(Z2)                  # Get normalized probabilities\n",
    "    return Z1, A1, Z2, A2             # Return all (You will see why) "
   ]
  },
  {
   "cell_type": "markdown",
   "id": "36478640",
   "metadata": {},
   "source": [
    "#### Loss Calculation Functions"
   ]
  },
  {
   "cell_type": "code",
   "execution_count": 7,
   "id": "70f9f551",
   "metadata": {},
   "outputs": [],
   "source": [
    "# We will not use this in this case, but if you wanted to hardcode softmax, this is what it would look like\n",
    "def cross_entropy_loss(Y_actual, Y_pred):\n",
    "    batch_size = Y_pred.shape[1]\n",
    "\n",
    "    correct_class_probs = Y_pred[Y_actual, np.arange(batch_size)]\n",
    "    # Same meaning as:\n",
    "    # correct_class_probs = []\n",
    "    # for i in range(m):\n",
    "    #   correct_class = Y_actual[i]\n",
    "    #   correct_class_probs.append(Y_pred[correct_class, i])\n",
    "    # correct_class_probs = np.array(correct_class_probs)\n",
    "\n",
    "    # 1e-8 is just to avoid hitting an error due to log(0) not being allowed.\n",
    "    loss = -np.sum(np.log(correct_class_probs + 1e-8)) / batch_size\n",
    "    return loss\n"
   ]
  },
  {
   "cell_type": "code",
   "execution_count": 6,
   "id": "046c03d8",
   "metadata": {},
   "outputs": [],
   "source": [
    "# Purpose: Create the correct value vectors (i.e. for 3 -> [0,0,0,1,0,0,0,0,0,0]) where all zeros, except at actual index where it is one.\n",
    "# Will be used to calculate the loss\n",
    "def one_hot(Y):\n",
    "    one_hot_Y = np.zeros((Y.size, 10))\n",
    "    one_hot_Y[np.arange(Y.size), Y] = 1\n",
    "    return one_hot_Y.T"
   ]
  },
  {
   "cell_type": "markdown",
   "id": "336ff5d3",
   "metadata": {},
   "source": [
    "#### Back Propagation Functions"
   ]
  },
  {
   "cell_type": "code",
   "execution_count": 7,
   "id": "bbab994b",
   "metadata": {},
   "outputs": [],
   "source": [
    "def ReLU_deriv(Z):\n",
    "    # Since the function is x or 0, the derivative is 1 or 0 respectively => can represent as a bool\n",
    "    return Z > 0\n"
   ]
  },
  {
   "cell_type": "code",
   "execution_count": 8,
   "id": "601c925b",
   "metadata": {},
   "outputs": [],
   "source": [
    "def back_propagation(Z1, A1, Z2, A2, W1, W2, X, Y):\n",
    "    batch_size = X.shape[1]\n",
    "    one_hot_Y = one_hot(Y)\n",
    "    dZ2 = A2 - one_hot_Y                                        # error at Z2 = final output - correct label\n",
    "    dW2 = (1 / batch_size) * dZ2.dot(A1.T)                      # Gradients for weights in layer two\n",
    "    db2 = (1 / batch_size) * np.sum(dZ2, axis=1, keepdims=True) # Gradients for biases in output layer\n",
    "    dZ1 = W2.T.dot(dZ2) * ReLU_deriv(Z1)                        # Backprop through hidden layer and through activation function\n",
    "    dW1 = (1 / batch_size) * dZ1.dot(X.T)                       # Gradient for W1\n",
    "    db1 = (1 / batch_size) * np.sum(dZ1, axis=1, keepdims=True) # Gradient for b1\n",
    "    return dW1, db1, dW2, db2                                   # Only care about the gradients of the weights and biases because these are the only components that get updated."
   ]
  },
  {
   "cell_type": "markdown",
   "id": "d2ef6eec",
   "metadata": {},
   "source": [
    "#### Update the Neural Network"
   ]
  },
  {
   "cell_type": "code",
   "execution_count": 9,
   "id": "47a1408d",
   "metadata": {},
   "outputs": [],
   "source": [
    "def update_params(W1, b1, W2, b2, dW1, db1, dW2, db2, learning_rate):\n",
    "    W1 = W1 - learning_rate * dW1\n",
    "    b1 = b1 - learning_rate * db1    \n",
    "    W2 = W2 - learning_rate * dW2  \n",
    "    b2 = b2 - learning_rate * db2    \n",
    "    return W1, b1, W2, b2"
   ]
  },
  {
   "cell_type": "markdown",
   "id": "79aef462",
   "metadata": {},
   "source": [
    "#### Evaluation Functions"
   ]
  },
  {
   "cell_type": "code",
   "execution_count": null,
   "id": "07ac45a3",
   "metadata": {},
   "outputs": [],
   "source": [
    "def get_prediction(A2):\n",
    "    return np.argmax(A2, 0)\n",
    "\n",
    "def get_accuracy(predictions, Y):\n",
    "    return 100 * (np.sum(predictions == Y) / Y.size)"
   ]
  },
  {
   "cell_type": "markdown",
   "id": "a8703a20",
   "metadata": {},
   "source": [
    "#### Training"
   ]
  },
  {
   "cell_type": "code",
   "execution_count": 25,
   "id": "1d4a1e8e",
   "metadata": {},
   "outputs": [],
   "source": [
    "def gradient_descent(X, Y, learning_rate, epochs, batch_size, hidden_layer_neurons = 50):\n",
    "    W1, b1, W2, b2 = init_params(hidden_layer_neurons)       # Initialize the network\n",
    "    total = X.shape[1]                                       # Get the total number of training examples we have\n",
    "\n",
    "    for epoch in range(epochs):\n",
    "        permutation = np.random.permutation(total)\n",
    "        X_shuffled = X[:, permutation]\n",
    "        Y_shuffled = Y[permutation]\n",
    "\n",
    "        for index in range(0, total - batch_size, batch_size):\n",
    "            end = index + batch_size\n",
    "            X_batch = X_shuffled[:, index:end]\n",
    "            Y_batch = Y_shuffled[index:end]\n",
    "\n",
    "            Z1, A1, Z2, A2 = forward_propagation(W1, b1, W2, b2, X_batch)\n",
    "            dW1, db1, dW2, db2 = back_propagation(Z1, A1, Z2, A2, W1, W2, X_batch, Y_batch)\n",
    "            W1, b1, W2, b2 = update_params(W1, b1, W2, b2, dW1, db1, dW2, db2, learning_rate)\n",
    "    \n",
    "        Z1_full, A1_full, Z2_full, A2_full = forward_propagation(W1, b1, W2, b2, X_val)\n",
    "        predictions = get_prediction(A2_full)\n",
    "        acc = get_accuracy(predictions, Y_val)\n",
    "        print(\"Epoch:\", epoch, \"Accuracy:\", acc)\n",
    "\n",
    "    return W1, b1, W2, b2"
   ]
  },
  {
   "cell_type": "code",
   "execution_count": 26,
   "id": "487a65f6",
   "metadata": {},
   "outputs": [
    {
     "name": "stdout",
     "output_type": "stream",
     "text": [
      "[8 7 7 1 1 0 1 8 3 1 3 4 1 1 9 7 1 6 3 7 9 2 8 6 2 1 1 2 8 8 4 2 1 6 0 6 9\n",
      " 5 3 3 0 7 5 8 7 0 7 9 6 3 9 4 9 6 9 0 3 1 4 9 8 7 1 8 6 4 5 7 5 7 0 4 9 7\n",
      " 7 4 2 9 9 8 9 4 2 9 7 3 6 4 5 1 9 2 8 6 1 3 7 9 3 8 5 0 3 2 6 0 3 6 7 9 2\n",
      " 7 9 7 9 1 4 0 0 3 0 4 4 3 3 6 8 2 5 7 6 1 8 5 1 9 7 7 6 2 9 2 0 1 8 4 7 4\n",
      " 1 2 0 0 3 4 7 1 6 1 3 8 9 7 3 2 9 1 9 4 7 5 0 7 8 5 9 3 4 4 3 5 5 9 3 5 5\n",
      " 7 4 3 4 8 9 5 9 8 6 9 9 7 4 5 6 2 3 5 6 9 8 3 1 6 9 3 7 5 9 8 6 4 8 5 6 3\n",
      " 5 0 1 1 1 9 8 9 3 0 9 4 3 4 4 6 1 0 1 5 1 9 7 2 3 0 1 7 2 4 1 2 0 1 9 3 1\n",
      " 0 0 1 0 2 7 7 3 1 3 5 9 9 0 0 1 8 1 7 1 4 1 6 7 9 7 1 4 8 2 9 4 0 9 7 9 1\n",
      " 8 6 1 6 8 2 3 2 5 3 3 9 6 6 6 6 8 9 4 7 4 1 6 8 5 3 1 4 7 9 2 4 7 7 2 4 5\n",
      " 3 6 1 8 4 6 1 7 7 8 5 7 5 3 8 4 3 0 4 8 1 8 3 9 1 8 3 2 3 8 2 4 9 0 9 1 6\n",
      " 9 8 5 0 0 7 0 2 9 1 4 9 1 8 5 6 0 6 9 6 8 5 9 8 7 3 6 7 3 8 4 1 1 9 7 7 4\n",
      " 8 6 8 3 6 9 4 7 4 6 9 6 3 4 8 3 1 1 4 0 2 3 6 5 5 9 0 4 1 0 8 1 8 1 0 2 4\n",
      " 2 8 2 1 1 0 7 2 5 3 5 9 5 4 3 2 9 3 0 7 3 1 5 4 1 6 3 0 9 9 0 8 6 9 1 5 9\n",
      " 0 3 9 9 7 0 2 1 1 3 9 2 6 5 8 2 0 9 4 0 9 0 3 0 5 0 5 5 8 8 8 4 2 6 5 5 8\n",
      " 8 3 8 3 7 3 1 1 8 0 5 7 7 5 4 4 7 2 6 0 7 3 8 3 4 5 6 8 3 4 2 7 1 7 1 8 5\n",
      " 3 6 6 3 7 0 4 8 9 3 1 0 8 9 7 9 5 6 1 4 9 7 9 6 9 0 2 2 3 3 3 4 4 1 0 1 4\n",
      " 2 0 4 6 0 1 8 4 7 6 6 2 9 5 8 6 3 2 0 8 9 2 3 7 8 7 0 7 3 4 9 1 5 1 9 4 4\n",
      " 5 6 9 6 0 7 9 1 4 1 6 8 1 9 8 2 1 3 5 3 2 8 7 2 4 7 1 9 8 7 5 4 3 5 7 8 7\n",
      " 5 8 1 2 7 3 5 5 4 0 0 8 3 8 7 1 4 0 4 8 6 2 1 8 1 2 4 3 2 7 9 1 6 6 8 0 9\n",
      " 0 9 3 9 8 9 2 4 7 7 1 3 2 9 6 0 1 9 0 2 6 3 4 6 6 7 8 0 9 3 7 7 9 2 3 2 4\n",
      " 9 4 0 8 3 6 3 6 7 2 1 5 3 9 6 3 3 8 2 3 7 1 1 7 7 8 4 4 2 3 5 1 3 7 1 6 5\n",
      " 5 1 6 0 2 6 8 3 7 1 6 1 2 8 1 1 1 8 9 1 9 3 1 0 1 1 8 7 2 5 6 9 1 7 2 7 7\n",
      " 0 4 0 6 2 2 5 7 4 7 0 9 9 0 5 2 8 1 9 1 7 3 0 7 6 8 6 2 6 7 9 2 7 4 5 7 4\n",
      " 3 3 6 0 9 5 6 2 0 8 1 8 8 8 8 2 1 4 6 7 4 6 6 3 7 0 7 9 8 5 6 7 0 0 3 1 9\n",
      " 7 7 5 4 4 9 1 7 9 6 7 3 5 7 2 3 7 5 4 6 6 6 4 6 7 3 4 7 5 4 5 6 4 3 0 9 6\n",
      " 9 7 6 1 4 6 9 4 6 8 1 6 6 6 8 9 9 1 9 8 9 9 3 6 2 4 8 0 5 3 4 3 0 3 6 2 0\n",
      " 9 5 1 4 4 1 9 2 1 0 5 9 1 7 1 7 9 8 3 4 2 8 6 2 8 4 9 2 4 2 6 6 0 1 4 3 3\n",
      " 1] [8 7 7 1 1 0 1 8 5 1 3 4 3 1 9 0 1 3 3 7 9 2 8 6 2 1 1 2 8 8 4 2 1 6 0 5 9\n",
      " 5 3 3 0 2 5 8 7 0 7 9 6 3 9 4 9 6 4 0 3 1 4 9 1 7 1 4 6 4 5 7 5 7 0 7 9 7\n",
      " 7 4 2 9 9 8 9 8 3 9 7 3 6 9 5 1 9 2 8 6 1 3 7 9 5 8 5 0 3 2 6 0 5 6 7 3 2\n",
      " 7 9 7 9 1 4 0 0 3 0 4 4 3 3 6 4 2 5 7 6 1 2 5 1 9 7 7 2 2 9 2 0 1 2 4 9 4\n",
      " 1 2 0 0 3 4 7 1 6 1 3 8 4 7 8 2 9 1 9 4 7 5 0 7 8 5 9 3 4 4 3 9 5 8 7 5 5\n",
      " 7 4 3 4 8 9 5 4 3 6 4 9 7 4 5 6 2 3 5 0 9 8 3 1 6 9 3 7 5 9 8 6 9 8 5 6 3\n",
      " 5 0 1 1 1 9 8 9 3 0 9 4 3 4 4 6 1 5 1 5 1 9 9 3 3 0 1 7 2 4 1 3 0 1 9 3 1\n",
      " 0 0 1 0 2 7 2 3 1 3 5 9 3 0 0 1 8 1 7 5 4 1 6 7 9 7 1 7 8 2 9 5 0 9 7 9 1\n",
      " 8 6 1 6 8 2 3 3 8 3 3 7 6 6 6 6 8 9 4 7 4 1 5 8 9 3 1 4 7 9 2 4 7 7 2 4 5\n",
      " 3 6 7 8 4 6 1 7 7 8 5 7 5 3 3 4 3 0 4 8 1 8 5 9 1 8 3 2 3 8 2 4 4 0 9 1 6\n",
      " 4 2 5 0 0 9 0 1 9 1 4 9 1 8 5 6 0 6 9 6 8 5 9 8 7 3 3 7 3 8 4 7 1 9 7 7 4\n",
      " 4 1 9 3 6 7 3 7 4 6 9 6 3 4 8 3 1 1 4 0 2 3 6 5 5 2 0 4 1 0 5 1 8 1 0 2 4\n",
      " 2 8 2 1 1 0 7 2 5 3 5 9 5 4 3 2 9 5 5 7 3 9 5 7 1 6 3 9 9 9 0 8 6 9 1 3 7\n",
      " 0 3 9 9 7 0 3 1 1 3 9 2 6 3 8 2 0 9 4 0 8 0 3 0 5 0 5 5 8 8 8 4 8 6 5 5 8\n",
      " 3 3 8 2 7 3 1 9 8 0 5 7 7 5 4 4 7 2 6 0 7 3 8 3 4 5 6 8 3 4 2 7 1 7 1 8 5\n",
      " 3 6 6 3 7 0 9 8 9 5 1 0 8 9 2 9 8 6 1 4 9 7 9 6 9 0 2 2 3 3 5 4 4 1 0 1 4\n",
      " 2 0 4 6 0 1 8 4 7 6 6 2 8 8 4 0 3 2 0 8 8 2 3 7 8 9 0 7 3 4 4 1 5 1 4 3 4\n",
      " 5 6 8 6 0 7 9 1 4 1 6 8 1 9 2 2 1 3 5 5 8 8 7 2 4 7 1 4 8 7 9 4 3 5 7 8 7\n",
      " 5 8 1 2 7 5 5 5 4 0 0 5 3 8 7 1 0 0 4 8 6 2 1 8 1 2 4 3 2 7 5 1 2 6 8 0 9\n",
      " 0 9 3 9 8 9 2 6 7 7 1 3 3 9 6 0 1 4 0 2 6 3 4 6 6 7 8 0 5 3 7 7 6 2 3 2 8\n",
      " 9 4 0 8 3 6 3 6 7 2 1 5 3 9 6 3 3 8 2 3 9 7 1 7 7 8 4 4 2 3 8 1 3 7 5 6 5\n",
      " 5 1 6 0 2 6 8 8 7 1 6 1 2 8 1 1 1 8 9 7 9 3 1 9 1 1 8 9 4 5 2 9 1 7 2 7 7\n",
      " 0 4 0 6 3 2 7 7 4 3 0 9 9 0 5 3 3 1 9 5 7 3 0 4 6 8 6 2 6 7 4 3 7 4 3 1 4\n",
      " 3 8 6 8 9 5 6 2 0 8 1 8 8 2 5 8 1 4 6 7 4 6 6 3 7 0 7 4 8 3 6 7 4 0 3 1 9\n",
      " 2 7 2 4 4 9 8 4 9 6 7 3 3 7 2 3 7 1 9 6 6 4 4 6 7 3 4 9 5 4 5 6 4 3 0 9 6\n",
      " 9 7 6 1 4 6 9 4 6 8 1 6 6 6 8 9 9 1 9 8 9 7 8 6 2 5 8 0 5 3 4 3 0 3 6 2 0\n",
      " 9 8 1 7 4 1 9 2 1 0 5 9 1 7 1 7 9 8 3 4 2 8 6 2 8 9 9 2 4 2 6 6 0 1 4 5 3\n",
      " 2]\n",
      "Epoch: 0 Accuracy: 0.847\n",
      "[8 7 7 1 1 0 1 8 5 1 3 4 1 1 9 9 1 6 3 7 9 2 8 6 2 1 1 2 8 8 4 2 1 6 0 6 9\n",
      " 5 3 9 0 7 5 8 7 0 7 9 6 3 9 4 9 6 9 0 3 1 4 9 8 7 1 8 6 4 5 7 5 7 0 4 9 7\n",
      " 7 4 2 9 9 8 9 4 2 9 7 3 6 9 5 1 9 2 8 6 1 3 7 9 3 8 5 0 3 2 6 0 3 6 7 9 2\n",
      " 7 9 7 9 1 4 0 0 3 0 4 4 0 3 6 4 2 5 7 6 1 2 5 1 9 7 7 2 2 9 2 0 1 2 4 7 4\n",
      " 1 2 0 0 3 4 7 1 6 1 3 8 9 7 3 2 9 1 9 4 7 5 0 7 8 5 9 3 4 4 3 5 5 9 3 5 5\n",
      " 7 4 3 4 8 9 5 9 8 6 9 9 7 4 5 6 2 3 5 6 9 8 3 1 6 9 3 7 5 9 8 6 9 8 5 6 3\n",
      " 5 0 1 1 1 9 8 9 3 0 9 4 3 4 4 6 1 0 1 5 1 9 9 2 3 0 1 7 2 4 1 3 0 1 9 3 1\n",
      " 0 0 1 0 2 7 2 3 1 3 5 9 9 0 0 1 8 1 7 5 4 1 6 7 9 7 1 7 8 2 9 5 0 9 7 9 1\n",
      " 8 6 1 6 8 2 3 2 5 3 3 9 6 6 6 6 8 9 4 7 4 1 6 8 5 3 1 4 7 9 2 4 7 7 2 4 5\n",
      " 3 6 1 8 4 6 1 7 7 8 5 7 5 3 3 4 3 0 4 8 1 8 3 9 1 8 3 2 3 8 2 4 9 0 9 1 6\n",
      " 9 2 5 0 0 7 0 2 9 1 4 9 1 8 5 6 0 6 9 6 8 5 9 8 7 3 6 7 3 9 4 1 1 9 7 7 4\n",
      " 8 6 9 3 6 9 2 7 4 6 9 6 3 4 8 3 1 1 4 0 2 3 6 5 5 9 0 4 1 0 8 1 8 1 0 2 4\n",
      " 2 8 2 1 1 0 7 2 5 3 5 9 5 4 3 2 9 3 0 7 3 9 5 7 1 6 3 0 9 9 0 8 6 9 1 5 9\n",
      " 0 3 9 9 7 0 2 1 1 3 9 2 6 3 8 2 0 9 4 0 9 0 3 0 5 0 5 5 8 8 8 4 2 6 5 5 8\n",
      " 8 3 8 3 7 3 1 1 8 0 5 7 7 5 4 4 7 2 6 0 7 3 8 3 4 5 6 8 3 4 2 7 1 7 1 8 5\n",
      " 3 6 6 3 7 0 9 8 9 5 1 0 8 9 7 9 8 6 1 4 9 7 9 6 9 0 2 2 3 3 9 4 4 1 0 1 4\n",
      " 2 0 4 6 0 1 8 4 7 6 6 2 9 8 9 6 3 2 0 8 9 2 3 7 8 7 0 7 3 4 4 1 5 1 9 9 4\n",
      " 5 6 9 6 0 7 9 1 4 1 6 8 1 9 8 2 1 3 5 3 2 8 7 2 4 7 1 9 8 7 9 4 3 5 7 8 7\n",
      " 5 8 1 2 7 3 5 5 4 0 0 5 3 8 7 1 4 0 4 8 6 2 1 8 1 2 4 3 2 7 9 1 6 6 8 0 9\n",
      " 0 9 3 9 8 9 2 4 7 7 1 3 2 9 6 0 1 9 0 2 6 3 4 6 6 7 8 0 9 3 7 7 6 2 3 2 4\n",
      " 9 4 0 8 3 6 3 6 7 2 1 5 3 9 6 3 3 8 2 3 7 1 1 7 7 8 4 4 2 3 0 1 3 7 1 6 5\n",
      " 5 1 6 0 2 6 8 3 7 1 6 1 2 8 1 1 1 8 9 1 9 3 1 0 1 1 8 9 2 5 2 9 1 7 2 7 7\n",
      " 0 4 0 6 2 2 4 7 4 2 0 9 9 0 5 2 8 1 9 8 7 3 0 7 6 8 6 2 6 7 9 2 7 4 5 7 4\n",
      " 3 8 6 0 9 5 6 2 0 8 1 8 8 8 8 2 1 4 6 7 4 6 6 3 7 0 7 9 8 5 6 7 0 0 3 1 9\n",
      " 2 7 5 4 4 9 8 7 9 6 7 3 5 7 2 3 7 5 9 6 6 6 4 6 7 3 4 9 5 4 3 6 4 3 0 9 6\n",
      " 9 7 6 1 4 6 9 4 6 8 1 6 6 6 8 9 9 1 9 8 9 9 8 6 2 4 8 0 5 3 4 3 0 3 6 2 0\n",
      " 9 8 1 7 9 1 9 2 1 0 5 9 1 7 1 7 9 8 3 4 2 8 6 2 8 4 9 2 4 2 6 6 0 1 4 3 3\n",
      " 1] [8 7 7 1 1 0 1 8 5 1 3 4 3 1 9 0 1 3 3 7 9 2 8 6 2 1 1 2 8 8 4 2 1 6 0 5 9\n",
      " 5 3 3 0 2 5 8 7 0 7 9 6 3 9 4 9 6 4 0 3 1 4 9 1 7 1 4 6 4 5 7 5 7 0 7 9 7\n",
      " 7 4 2 9 9 8 9 8 3 9 7 3 6 9 5 1 9 2 8 6 1 3 7 9 5 8 5 0 3 2 6 0 5 6 7 3 2\n",
      " 7 9 7 9 1 4 0 0 3 0 4 4 3 3 6 4 2 5 7 6 1 2 5 1 9 7 7 2 2 9 2 0 1 2 4 9 4\n",
      " 1 2 0 0 3 4 7 1 6 1 3 8 4 7 8 2 9 1 9 4 7 5 0 7 8 5 9 3 4 4 3 9 5 8 7 5 5\n",
      " 7 4 3 4 8 9 5 4 3 6 4 9 7 4 5 6 2 3 5 0 9 8 3 1 6 9 3 7 5 9 8 6 9 8 5 6 3\n",
      " 5 0 1 1 1 9 8 9 3 0 9 4 3 4 4 6 1 5 1 5 1 9 9 3 3 0 1 7 2 4 1 3 0 1 9 3 1\n",
      " 0 0 1 0 2 7 2 3 1 3 5 9 3 0 0 1 8 1 7 5 4 1 6 7 9 7 1 7 8 2 9 5 0 9 7 9 1\n",
      " 8 6 1 6 8 2 3 3 8 3 3 7 6 6 6 6 8 9 4 7 4 1 5 8 9 3 1 4 7 9 2 4 7 7 2 4 5\n",
      " 3 6 7 8 4 6 1 7 7 8 5 7 5 3 3 4 3 0 4 8 1 8 5 9 1 8 3 2 3 8 2 4 4 0 9 1 6\n",
      " 4 2 5 0 0 9 0 1 9 1 4 9 1 8 5 6 0 6 9 6 8 5 9 8 7 3 3 7 3 8 4 7 1 9 7 7 4\n",
      " 4 1 9 3 6 7 3 7 4 6 9 6 3 4 8 3 1 1 4 0 2 3 6 5 5 2 0 4 1 0 5 1 8 1 0 2 4\n",
      " 2 8 2 1 1 0 7 2 5 3 5 9 5 4 3 2 9 5 5 7 3 9 5 7 1 6 3 9 9 9 0 8 6 9 1 3 7\n",
      " 0 3 9 9 7 0 3 1 1 3 9 2 6 3 8 2 0 9 4 0 8 0 3 0 5 0 5 5 8 8 8 4 8 6 5 5 8\n",
      " 3 3 8 2 7 3 1 9 8 0 5 7 7 5 4 4 7 2 6 0 7 3 8 3 4 5 6 8 3 4 2 7 1 7 1 8 5\n",
      " 3 6 6 3 7 0 9 8 9 5 1 0 8 9 2 9 8 6 1 4 9 7 9 6 9 0 2 2 3 3 5 4 4 1 0 1 4\n",
      " 2 0 4 6 0 1 8 4 7 6 6 2 8 8 4 0 3 2 0 8 8 2 3 7 8 9 0 7 3 4 4 1 5 1 4 3 4\n",
      " 5 6 8 6 0 7 9 1 4 1 6 8 1 9 2 2 1 3 5 5 8 8 7 2 4 7 1 4 8 7 9 4 3 5 7 8 7\n",
      " 5 8 1 2 7 5 5 5 4 0 0 5 3 8 7 1 0 0 4 8 6 2 1 8 1 2 4 3 2 7 5 1 2 6 8 0 9\n",
      " 0 9 3 9 8 9 2 6 7 7 1 3 3 9 6 0 1 4 0 2 6 3 4 6 6 7 8 0 5 3 7 7 6 2 3 2 8\n",
      " 9 4 0 8 3 6 3 6 7 2 1 5 3 9 6 3 3 8 2 3 9 7 1 7 7 8 4 4 2 3 8 1 3 7 5 6 5\n",
      " 5 1 6 0 2 6 8 8 7 1 6 1 2 8 1 1 1 8 9 7 9 3 1 9 1 1 8 9 4 5 2 9 1 7 2 7 7\n",
      " 0 4 0 6 3 2 7 7 4 3 0 9 9 0 5 3 3 1 9 5 7 3 0 4 6 8 6 2 6 7 4 3 7 4 3 1 4\n",
      " 3 8 6 8 9 5 6 2 0 8 1 8 8 2 5 8 1 4 6 7 4 6 6 3 7 0 7 4 8 3 6 7 4 0 3 1 9\n",
      " 2 7 2 4 4 9 8 4 9 6 7 3 3 7 2 3 7 1 9 6 6 4 4 6 7 3 4 9 5 4 5 6 4 3 0 9 6\n",
      " 9 7 6 1 4 6 9 4 6 8 1 6 6 6 8 9 9 1 9 8 9 7 8 6 2 5 8 0 5 3 4 3 0 3 6 2 0\n",
      " 9 8 1 7 4 1 9 2 1 0 5 9 1 7 1 7 9 8 3 4 2 8 6 2 8 9 9 2 4 2 6 6 0 1 4 5 3\n",
      " 2]\n",
      "Epoch: 1 Accuracy: 0.879\n",
      "[8 7 7 1 1 0 1 8 5 1 3 4 1 1 9 9 1 5 3 7 9 2 8 6 2 1 1 2 8 8 4 2 1 6 0 6 9\n",
      " 5 3 3 0 7 5 8 7 0 7 9 6 3 9 4 9 6 9 0 3 1 4 9 8 7 1 8 6 4 5 7 5 7 0 4 9 7\n",
      " 7 4 2 9 9 8 9 4 2 9 7 3 6 9 5 1 9 2 8 6 1 3 7 9 3 8 5 0 3 2 6 0 3 6 7 9 2\n",
      " 7 9 7 9 1 4 0 0 3 0 4 4 3 3 6 4 2 5 7 6 1 2 5 1 9 7 7 2 2 9 2 0 1 2 4 7 4\n",
      " 1 2 0 0 3 4 7 1 6 1 3 8 4 7 3 2 9 1 9 4 7 5 0 7 8 5 9 3 4 4 3 5 5 9 4 5 5\n",
      " 7 4 3 4 8 9 5 9 8 6 9 9 7 4 5 6 2 3 5 6 9 8 3 1 6 9 3 7 5 9 8 6 4 8 5 6 3\n",
      " 5 0 1 1 1 9 8 9 3 0 9 4 3 4 4 6 1 0 1 5 1 9 9 2 3 0 1 7 2 4 1 3 0 1 9 3 1\n",
      " 0 0 1 0 2 7 2 3 1 3 5 9 9 0 0 1 8 1 7 5 4 1 6 7 9 7 1 4 8 2 9 5 0 9 7 9 1\n",
      " 8 6 1 6 8 2 3 2 5 3 3 9 6 6 6 6 8 9 4 7 4 1 6 8 5 3 1 4 7 9 2 4 7 7 2 4 5\n",
      " 3 6 1 8 4 6 1 7 7 8 5 7 5 3 3 4 3 0 4 8 1 8 3 9 1 8 3 2 3 8 2 4 9 0 9 1 6\n",
      " 4 2 5 0 0 7 0 2 9 1 4 9 1 8 5 6 0 6 9 6 8 5 9 8 7 3 6 7 3 8 4 1 1 9 7 7 4\n",
      " 8 6 9 3 6 9 2 7 4 6 9 6 3 4 8 3 1 1 4 0 2 3 6 5 5 9 0 4 1 0 5 1 8 1 0 2 4\n",
      " 2 8 2 1 1 0 7 2 5 3 5 9 5 4 3 2 9 5 5 7 3 9 5 7 1 6 3 9 9 9 0 8 6 9 1 5 7\n",
      " 0 3 9 9 7 0 2 1 1 3 9 2 6 3 8 2 0 9 4 0 9 0 3 0 5 0 5 5 8 8 8 4 2 6 5 5 8\n",
      " 8 3 8 3 7 3 1 8 8 0 5 7 7 5 4 4 7 2 6 0 7 3 8 3 4 5 6 8 3 4 2 7 1 7 1 8 5\n",
      " 3 6 6 3 7 0 9 8 9 5 1 0 8 9 7 9 8 6 1 4 9 7 9 6 9 0 2 2 3 3 9 4 4 1 0 1 4\n",
      " 2 0 4 6 0 1 8 4 7 6 6 2 9 8 4 6 3 2 0 8 9 2 3 7 8 7 0 7 3 4 4 1 5 1 9 3 4\n",
      " 5 6 9 6 0 7 9 1 4 1 6 8 1 9 8 2 1 3 5 3 2 8 7 2 4 7 1 9 8 7 9 4 3 5 7 8 7\n",
      " 5 8 1 2 7 5 5 5 4 0 0 5 3 8 7 1 4 0 4 8 6 2 1 8 1 2 4 3 2 7 9 1 6 6 8 0 9\n",
      " 0 9 3 9 8 9 2 4 7 7 1 3 2 9 6 0 1 9 0 2 6 3 4 6 6 7 8 0 9 3 7 7 6 2 3 2 4\n",
      " 9 4 0 8 3 6 3 6 7 2 1 5 3 9 6 3 3 8 2 3 7 1 1 7 7 8 4 4 2 3 5 1 3 7 1 6 5\n",
      " 5 1 6 0 2 6 8 3 7 1 6 1 2 8 1 1 1 8 9 1 9 3 1 9 1 1 8 9 4 5 2 9 1 7 2 7 7\n",
      " 0 4 0 6 2 2 4 7 4 2 0 9 9 0 5 2 8 1 9 8 7 3 0 7 6 8 6 2 6 7 9 2 7 4 5 7 4\n",
      " 3 8 6 0 9 5 6 2 0 8 1 8 8 8 5 2 1 4 6 7 4 6 6 3 7 0 7 9 8 5 6 7 4 0 3 1 9\n",
      " 2 7 5 4 4 9 8 7 9 6 7 3 5 7 2 3 7 5 4 6 6 6 4 6 7 3 4 9 5 4 5 6 4 3 0 9 6\n",
      " 9 7 6 1 4 6 9 4 6 8 1 6 6 6 8 9 9 1 9 8 9 9 8 6 2 5 8 0 5 3 4 3 0 3 6 2 0\n",
      " 9 8 1 7 9 1 9 2 1 0 5 9 1 7 1 7 9 8 3 4 2 8 6 2 8 4 9 2 4 2 6 6 0 1 4 3 3\n",
      " 1] [8 7 7 1 1 0 1 8 5 1 3 4 3 1 9 0 1 3 3 7 9 2 8 6 2 1 1 2 8 8 4 2 1 6 0 5 9\n",
      " 5 3 3 0 2 5 8 7 0 7 9 6 3 9 4 9 6 4 0 3 1 4 9 1 7 1 4 6 4 5 7 5 7 0 7 9 7\n",
      " 7 4 2 9 9 8 9 8 3 9 7 3 6 9 5 1 9 2 8 6 1 3 7 9 5 8 5 0 3 2 6 0 5 6 7 3 2\n",
      " 7 9 7 9 1 4 0 0 3 0 4 4 3 3 6 4 2 5 7 6 1 2 5 1 9 7 7 2 2 9 2 0 1 2 4 9 4\n",
      " 1 2 0 0 3 4 7 1 6 1 3 8 4 7 8 2 9 1 9 4 7 5 0 7 8 5 9 3 4 4 3 9 5 8 7 5 5\n",
      " 7 4 3 4 8 9 5 4 3 6 4 9 7 4 5 6 2 3 5 0 9 8 3 1 6 9 3 7 5 9 8 6 9 8 5 6 3\n",
      " 5 0 1 1 1 9 8 9 3 0 9 4 3 4 4 6 1 5 1 5 1 9 9 3 3 0 1 7 2 4 1 3 0 1 9 3 1\n",
      " 0 0 1 0 2 7 2 3 1 3 5 9 3 0 0 1 8 1 7 5 4 1 6 7 9 7 1 7 8 2 9 5 0 9 7 9 1\n",
      " 8 6 1 6 8 2 3 3 8 3 3 7 6 6 6 6 8 9 4 7 4 1 5 8 9 3 1 4 7 9 2 4 7 7 2 4 5\n",
      " 3 6 7 8 4 6 1 7 7 8 5 7 5 3 3 4 3 0 4 8 1 8 5 9 1 8 3 2 3 8 2 4 4 0 9 1 6\n",
      " 4 2 5 0 0 9 0 1 9 1 4 9 1 8 5 6 0 6 9 6 8 5 9 8 7 3 3 7 3 8 4 7 1 9 7 7 4\n",
      " 4 1 9 3 6 7 3 7 4 6 9 6 3 4 8 3 1 1 4 0 2 3 6 5 5 2 0 4 1 0 5 1 8 1 0 2 4\n",
      " 2 8 2 1 1 0 7 2 5 3 5 9 5 4 3 2 9 5 5 7 3 9 5 7 1 6 3 9 9 9 0 8 6 9 1 3 7\n",
      " 0 3 9 9 7 0 3 1 1 3 9 2 6 3 8 2 0 9 4 0 8 0 3 0 5 0 5 5 8 8 8 4 8 6 5 5 8\n",
      " 3 3 8 2 7 3 1 9 8 0 5 7 7 5 4 4 7 2 6 0 7 3 8 3 4 5 6 8 3 4 2 7 1 7 1 8 5\n",
      " 3 6 6 3 7 0 9 8 9 5 1 0 8 9 2 9 8 6 1 4 9 7 9 6 9 0 2 2 3 3 5 4 4 1 0 1 4\n",
      " 2 0 4 6 0 1 8 4 7 6 6 2 8 8 4 0 3 2 0 8 8 2 3 7 8 9 0 7 3 4 4 1 5 1 4 3 4\n",
      " 5 6 8 6 0 7 9 1 4 1 6 8 1 9 2 2 1 3 5 5 8 8 7 2 4 7 1 4 8 7 9 4 3 5 7 8 7\n",
      " 5 8 1 2 7 5 5 5 4 0 0 5 3 8 7 1 0 0 4 8 6 2 1 8 1 2 4 3 2 7 5 1 2 6 8 0 9\n",
      " 0 9 3 9 8 9 2 6 7 7 1 3 3 9 6 0 1 4 0 2 6 3 4 6 6 7 8 0 5 3 7 7 6 2 3 2 8\n",
      " 9 4 0 8 3 6 3 6 7 2 1 5 3 9 6 3 3 8 2 3 9 7 1 7 7 8 4 4 2 3 8 1 3 7 5 6 5\n",
      " 5 1 6 0 2 6 8 8 7 1 6 1 2 8 1 1 1 8 9 7 9 3 1 9 1 1 8 9 4 5 2 9 1 7 2 7 7\n",
      " 0 4 0 6 3 2 7 7 4 3 0 9 9 0 5 3 3 1 9 5 7 3 0 4 6 8 6 2 6 7 4 3 7 4 3 1 4\n",
      " 3 8 6 8 9 5 6 2 0 8 1 8 8 2 5 8 1 4 6 7 4 6 6 3 7 0 7 4 8 3 6 7 4 0 3 1 9\n",
      " 2 7 2 4 4 9 8 4 9 6 7 3 3 7 2 3 7 1 9 6 6 4 4 6 7 3 4 9 5 4 5 6 4 3 0 9 6\n",
      " 9 7 6 1 4 6 9 4 6 8 1 6 6 6 8 9 9 1 9 8 9 7 8 6 2 5 8 0 5 3 4 3 0 3 6 2 0\n",
      " 9 8 1 7 4 1 9 2 1 0 5 9 1 7 1 7 9 8 3 4 2 8 6 2 8 9 9 2 4 2 6 6 0 1 4 5 3\n",
      " 2]\n",
      "Epoch: 2 Accuracy: 0.895\n",
      "[8 7 7 1 1 0 1 8 5 1 3 4 1 1 9 7 1 6 3 7 9 2 8 6 2 1 1 2 8 8 4 2 1 6 0 6 9\n",
      " 5 3 3 0 7 5 8 7 0 7 9 6 3 9 4 9 6 9 0 3 1 4 9 8 7 1 8 6 4 5 7 5 7 0 4 9 7\n",
      " 7 4 2 9 9 8 9 4 2 9 7 3 6 9 5 1 9 2 8 6 1 3 7 9 3 8 5 0 3 2 6 0 3 6 7 9 2\n",
      " 7 9 7 9 1 4 0 0 3 0 4 4 3 3 6 4 2 5 7 6 1 2 5 1 9 7 7 2 2 9 2 0 1 2 4 7 4\n",
      " 1 2 0 0 3 4 7 1 6 1 3 8 4 7 3 2 9 1 9 4 7 5 0 7 8 5 9 3 4 4 3 5 6 9 4 5 5\n",
      " 7 4 3 4 8 9 5 9 8 6 9 9 7 4 5 6 2 3 5 6 9 8 3 1 6 9 3 7 5 9 8 6 4 8 5 6 3\n",
      " 5 0 1 1 1 9 8 9 3 0 9 4 3 4 4 6 1 0 1 5 1 9 9 2 3 0 1 7 2 4 1 3 0 1 9 3 1\n",
      " 0 0 1 0 2 7 2 3 1 3 5 9 9 0 0 1 8 1 7 5 4 1 6 7 9 7 1 4 8 2 9 5 0 9 7 9 1\n",
      " 8 6 1 6 8 2 3 2 5 3 3 9 6 6 6 6 8 9 4 7 4 1 6 8 4 3 1 4 7 9 2 4 7 7 2 4 5\n",
      " 3 6 7 8 4 6 1 7 7 8 5 7 5 3 3 4 3 0 4 8 1 8 3 9 1 6 3 2 3 8 2 4 9 0 9 1 6\n",
      " 4 2 5 0 0 7 0 2 9 1 4 9 1 8 5 6 0 6 9 6 8 5 9 8 7 3 6 7 3 8 4 7 1 9 7 7 4\n",
      " 8 6 9 3 6 9 2 7 4 6 9 6 3 4 8 3 1 1 4 0 2 3 6 5 5 9 0 4 1 0 5 1 8 1 0 2 4\n",
      " 2 8 2 1 1 0 7 2 5 3 5 9 5 4 3 2 9 5 5 7 3 9 5 7 1 6 3 9 9 9 0 8 6 9 1 5 7\n",
      " 0 3 9 9 7 0 2 1 1 3 9 2 6 3 8 2 0 9 4 0 9 0 3 0 5 0 5 5 8 8 8 4 2 6 5 5 8\n",
      " 8 3 8 3 7 3 1 1 8 0 5 7 7 5 4 4 7 2 6 0 7 3 8 3 4 5 6 8 3 4 2 7 1 7 1 8 5\n",
      " 3 6 6 3 7 0 9 8 9 5 1 0 8 9 7 9 8 6 1 4 9 7 9 6 9 0 2 2 3 3 9 4 4 1 0 1 4\n",
      " 2 0 4 6 0 1 8 4 7 6 6 2 9 8 4 6 3 2 0 8 9 2 3 7 8 7 0 7 3 4 4 1 5 1 9 3 4\n",
      " 5 6 8 6 0 7 9 1 4 1 6 8 1 9 2 2 1 3 5 3 3 8 7 2 4 7 1 9 8 7 9 4 3 5 7 8 7\n",
      " 5 8 1 2 7 5 5 5 4 0 0 5 3 8 7 1 4 0 4 8 6 2 1 8 1 2 4 3 2 7 9 1 6 6 8 0 9\n",
      " 0 9 3 9 8 9 2 6 7 7 1 3 2 4 6 0 1 9 0 2 6 3 4 6 6 7 8 0 9 3 7 7 6 2 3 2 4\n",
      " 9 4 0 8 3 6 3 6 7 2 1 5 3 9 6 3 3 8 2 3 7 1 1 7 7 8 4 4 2 3 0 1 3 7 1 6 1\n",
      " 5 1 6 0 2 6 8 2 7 1 6 1 2 8 1 1 1 8 9 1 9 3 1 0 1 1 8 9 4 5 2 9 1 7 2 7 7\n",
      " 0 4 0 6 2 2 4 7 4 2 0 9 9 0 5 2 3 1 9 5 7 3 0 7 6 8 6 2 6 7 4 2 7 4 5 7 4\n",
      " 3 8 6 0 9 5 6 2 0 8 1 8 8 8 5 2 1 4 6 7 4 6 6 3 7 0 7 9 8 3 6 7 4 0 3 1 9\n",
      " 2 7 5 4 4 9 8 7 9 6 7 3 5 7 2 3 7 5 4 6 6 6 4 6 7 3 4 9 5 4 5 6 4 3 0 9 6\n",
      " 9 7 6 1 4 6 9 4 6 8 1 6 6 6 8 9 9 1 9 8 9 7 8 6 2 5 8 0 5 3 4 3 0 3 6 2 0\n",
      " 9 8 1 7 9 1 9 2 1 0 5 9 1 7 1 7 9 8 3 4 2 8 6 2 8 4 9 2 4 2 6 6 0 1 4 3 3\n",
      " 1] [8 7 7 1 1 0 1 8 5 1 3 4 3 1 9 0 1 3 3 7 9 2 8 6 2 1 1 2 8 8 4 2 1 6 0 5 9\n",
      " 5 3 3 0 2 5 8 7 0 7 9 6 3 9 4 9 6 4 0 3 1 4 9 1 7 1 4 6 4 5 7 5 7 0 7 9 7\n",
      " 7 4 2 9 9 8 9 8 3 9 7 3 6 9 5 1 9 2 8 6 1 3 7 9 5 8 5 0 3 2 6 0 5 6 7 3 2\n",
      " 7 9 7 9 1 4 0 0 3 0 4 4 3 3 6 4 2 5 7 6 1 2 5 1 9 7 7 2 2 9 2 0 1 2 4 9 4\n",
      " 1 2 0 0 3 4 7 1 6 1 3 8 4 7 8 2 9 1 9 4 7 5 0 7 8 5 9 3 4 4 3 9 5 8 7 5 5\n",
      " 7 4 3 4 8 9 5 4 3 6 4 9 7 4 5 6 2 3 5 0 9 8 3 1 6 9 3 7 5 9 8 6 9 8 5 6 3\n",
      " 5 0 1 1 1 9 8 9 3 0 9 4 3 4 4 6 1 5 1 5 1 9 9 3 3 0 1 7 2 4 1 3 0 1 9 3 1\n",
      " 0 0 1 0 2 7 2 3 1 3 5 9 3 0 0 1 8 1 7 5 4 1 6 7 9 7 1 7 8 2 9 5 0 9 7 9 1\n",
      " 8 6 1 6 8 2 3 3 8 3 3 7 6 6 6 6 8 9 4 7 4 1 5 8 9 3 1 4 7 9 2 4 7 7 2 4 5\n",
      " 3 6 7 8 4 6 1 7 7 8 5 7 5 3 3 4 3 0 4 8 1 8 5 9 1 8 3 2 3 8 2 4 4 0 9 1 6\n",
      " 4 2 5 0 0 9 0 1 9 1 4 9 1 8 5 6 0 6 9 6 8 5 9 8 7 3 3 7 3 8 4 7 1 9 7 7 4\n",
      " 4 1 9 3 6 7 3 7 4 6 9 6 3 4 8 3 1 1 4 0 2 3 6 5 5 2 0 4 1 0 5 1 8 1 0 2 4\n",
      " 2 8 2 1 1 0 7 2 5 3 5 9 5 4 3 2 9 5 5 7 3 9 5 7 1 6 3 9 9 9 0 8 6 9 1 3 7\n",
      " 0 3 9 9 7 0 3 1 1 3 9 2 6 3 8 2 0 9 4 0 8 0 3 0 5 0 5 5 8 8 8 4 8 6 5 5 8\n",
      " 3 3 8 2 7 3 1 9 8 0 5 7 7 5 4 4 7 2 6 0 7 3 8 3 4 5 6 8 3 4 2 7 1 7 1 8 5\n",
      " 3 6 6 3 7 0 9 8 9 5 1 0 8 9 2 9 8 6 1 4 9 7 9 6 9 0 2 2 3 3 5 4 4 1 0 1 4\n",
      " 2 0 4 6 0 1 8 4 7 6 6 2 8 8 4 0 3 2 0 8 8 2 3 7 8 9 0 7 3 4 4 1 5 1 4 3 4\n",
      " 5 6 8 6 0 7 9 1 4 1 6 8 1 9 2 2 1 3 5 5 8 8 7 2 4 7 1 4 8 7 9 4 3 5 7 8 7\n",
      " 5 8 1 2 7 5 5 5 4 0 0 5 3 8 7 1 0 0 4 8 6 2 1 8 1 2 4 3 2 7 5 1 2 6 8 0 9\n",
      " 0 9 3 9 8 9 2 6 7 7 1 3 3 9 6 0 1 4 0 2 6 3 4 6 6 7 8 0 5 3 7 7 6 2 3 2 8\n",
      " 9 4 0 8 3 6 3 6 7 2 1 5 3 9 6 3 3 8 2 3 9 7 1 7 7 8 4 4 2 3 8 1 3 7 5 6 5\n",
      " 5 1 6 0 2 6 8 8 7 1 6 1 2 8 1 1 1 8 9 7 9 3 1 9 1 1 8 9 4 5 2 9 1 7 2 7 7\n",
      " 0 4 0 6 3 2 7 7 4 3 0 9 9 0 5 3 3 1 9 5 7 3 0 4 6 8 6 2 6 7 4 3 7 4 3 1 4\n",
      " 3 8 6 8 9 5 6 2 0 8 1 8 8 2 5 8 1 4 6 7 4 6 6 3 7 0 7 4 8 3 6 7 4 0 3 1 9\n",
      " 2 7 2 4 4 9 8 4 9 6 7 3 3 7 2 3 7 1 9 6 6 4 4 6 7 3 4 9 5 4 5 6 4 3 0 9 6\n",
      " 9 7 6 1 4 6 9 4 6 8 1 6 6 6 8 9 9 1 9 8 9 7 8 6 2 5 8 0 5 3 4 3 0 3 6 2 0\n",
      " 9 8 1 7 4 1 9 2 1 0 5 9 1 7 1 7 9 8 3 4 2 8 6 2 8 9 9 2 4 2 6 6 0 1 4 5 3\n",
      " 2]\n",
      "Epoch: 3 Accuracy: 0.9\n",
      "[8 7 7 1 1 0 1 8 5 1 3 4 1 1 9 7 1 5 3 7 9 2 8 6 2 1 1 2 8 8 4 2 1 6 0 5 9\n",
      " 5 3 3 0 2 5 8 7 0 7 9 6 3 9 4 9 6 9 0 3 1 4 9 1 7 1 8 6 4 5 7 5 7 0 4 9 7\n",
      " 7 4 2 9 9 8 9 4 2 9 7 3 6 9 5 1 9 2 8 6 1 3 7 9 3 8 5 0 3 2 6 0 3 6 7 9 2\n",
      " 7 9 7 9 1 4 0 0 3 0 4 4 3 3 6 4 2 5 7 6 1 2 5 1 9 7 7 2 2 9 2 0 1 2 4 9 4\n",
      " 1 2 0 0 3 4 7 1 6 1 3 8 4 7 3 2 9 1 9 4 7 5 0 7 8 5 9 3 4 4 3 5 5 9 4 5 5\n",
      " 7 4 3 4 8 9 5 9 8 6 9 9 7 4 5 6 2 3 5 6 9 8 3 1 6 9 3 7 5 9 8 6 4 8 5 6 3\n",
      " 5 0 1 1 1 9 8 9 3 0 9 4 3 4 4 6 1 0 1 5 1 9 9 2 3 0 1 7 2 4 1 3 0 1 9 3 1\n",
      " 0 0 1 0 2 7 2 3 1 3 5 9 9 0 0 1 8 1 7 5 4 1 6 7 9 7 1 4 8 2 9 5 0 9 7 9 1\n",
      " 8 6 1 6 8 2 3 5 5 3 3 9 6 6 6 6 8 9 4 7 4 1 0 8 5 3 1 4 7 9 2 4 7 7 2 4 5\n",
      " 3 6 7 8 4 6 1 7 7 8 5 7 5 3 3 4 3 0 4 8 1 8 3 9 1 8 3 2 3 8 2 4 5 0 9 1 6\n",
      " 4 2 5 0 0 7 0 2 9 1 4 9 1 8 5 6 0 6 9 6 8 5 9 8 7 3 6 7 3 8 4 7 1 9 7 0 4\n",
      " 8 6 9 3 6 9 2 7 4 6 9 6 3 4 8 3 1 1 4 0 2 3 6 5 5 9 0 4 1 0 5 1 8 1 0 2 4\n",
      " 2 8 2 1 1 0 7 2 5 3 5 9 5 4 3 2 9 5 5 7 3 9 5 7 1 6 3 9 9 9 0 8 6 9 1 5 7\n",
      " 0 3 9 9 7 0 2 1 1 3 9 2 6 3 8 2 0 9 4 0 8 0 3 0 5 0 5 5 8 8 8 4 3 6 5 5 8\n",
      " 8 3 8 3 7 3 1 1 8 0 5 7 7 5 4 4 7 2 6 0 7 3 8 3 4 5 6 8 3 4 2 7 1 7 1 8 5\n",
      " 3 6 6 3 7 0 9 8 9 5 1 0 8 9 7 9 8 6 1 4 9 7 9 6 9 0 2 2 3 3 9 4 4 1 0 1 4\n",
      " 2 0 4 6 0 1 8 4 7 6 6 2 9 8 4 6 3 2 0 8 9 2 3 7 8 7 0 7 3 4 4 1 5 1 9 3 4\n",
      " 5 6 8 6 0 7 9 1 4 1 6 8 1 9 8 2 1 3 5 3 3 8 7 2 4 7 1 9 8 7 9 4 3 5 7 8 7\n",
      " 5 8 1 2 7 5 5 5 4 0 0 5 3 8 7 1 4 0 4 8 6 2 1 8 1 2 4 3 2 7 9 1 6 6 8 0 9\n",
      " 0 9 3 9 8 9 2 6 7 7 1 3 3 9 6 0 1 9 0 2 6 3 4 6 6 7 8 0 9 3 7 7 6 2 3 2 4\n",
      " 9 4 0 8 3 6 3 6 7 2 1 5 3 9 6 3 3 8 2 3 7 1 1 7 7 8 4 4 2 3 0 1 3 7 1 6 5\n",
      " 5 1 6 0 2 6 8 2 7 1 6 1 2 8 1 1 1 8 9 1 9 3 1 9 1 1 8 9 4 5 2 9 1 7 2 7 7\n",
      " 0 4 0 6 3 2 7 7 4 2 0 9 9 0 5 2 3 1 9 5 7 3 0 7 6 8 6 2 6 7 4 2 7 4 5 7 4\n",
      " 3 8 6 0 9 5 6 2 0 8 1 8 8 8 5 3 1 4 6 7 4 6 6 3 7 0 7 9 8 3 6 7 4 0 3 1 9\n",
      " 2 7 5 4 4 9 8 7 9 6 7 3 5 7 2 3 7 5 4 6 6 6 4 6 7 3 4 9 5 4 5 6 4 3 0 9 6\n",
      " 9 7 6 1 4 6 9 4 6 8 1 6 6 6 8 9 9 1 9 8 9 9 8 6 2 5 8 0 5 3 4 3 0 3 6 2 0\n",
      " 9 8 1 7 9 1 9 2 1 0 5 9 1 7 1 7 9 8 3 4 2 8 6 2 8 4 9 2 4 2 6 6 0 1 4 3 3\n",
      " 1] [8 7 7 1 1 0 1 8 5 1 3 4 3 1 9 0 1 3 3 7 9 2 8 6 2 1 1 2 8 8 4 2 1 6 0 5 9\n",
      " 5 3 3 0 2 5 8 7 0 7 9 6 3 9 4 9 6 4 0 3 1 4 9 1 7 1 4 6 4 5 7 5 7 0 7 9 7\n",
      " 7 4 2 9 9 8 9 8 3 9 7 3 6 9 5 1 9 2 8 6 1 3 7 9 5 8 5 0 3 2 6 0 5 6 7 3 2\n",
      " 7 9 7 9 1 4 0 0 3 0 4 4 3 3 6 4 2 5 7 6 1 2 5 1 9 7 7 2 2 9 2 0 1 2 4 9 4\n",
      " 1 2 0 0 3 4 7 1 6 1 3 8 4 7 8 2 9 1 9 4 7 5 0 7 8 5 9 3 4 4 3 9 5 8 7 5 5\n",
      " 7 4 3 4 8 9 5 4 3 6 4 9 7 4 5 6 2 3 5 0 9 8 3 1 6 9 3 7 5 9 8 6 9 8 5 6 3\n",
      " 5 0 1 1 1 9 8 9 3 0 9 4 3 4 4 6 1 5 1 5 1 9 9 3 3 0 1 7 2 4 1 3 0 1 9 3 1\n",
      " 0 0 1 0 2 7 2 3 1 3 5 9 3 0 0 1 8 1 7 5 4 1 6 7 9 7 1 7 8 2 9 5 0 9 7 9 1\n",
      " 8 6 1 6 8 2 3 3 8 3 3 7 6 6 6 6 8 9 4 7 4 1 5 8 9 3 1 4 7 9 2 4 7 7 2 4 5\n",
      " 3 6 7 8 4 6 1 7 7 8 5 7 5 3 3 4 3 0 4 8 1 8 5 9 1 8 3 2 3 8 2 4 4 0 9 1 6\n",
      " 4 2 5 0 0 9 0 1 9 1 4 9 1 8 5 6 0 6 9 6 8 5 9 8 7 3 3 7 3 8 4 7 1 9 7 7 4\n",
      " 4 1 9 3 6 7 3 7 4 6 9 6 3 4 8 3 1 1 4 0 2 3 6 5 5 2 0 4 1 0 5 1 8 1 0 2 4\n",
      " 2 8 2 1 1 0 7 2 5 3 5 9 5 4 3 2 9 5 5 7 3 9 5 7 1 6 3 9 9 9 0 8 6 9 1 3 7\n",
      " 0 3 9 9 7 0 3 1 1 3 9 2 6 3 8 2 0 9 4 0 8 0 3 0 5 0 5 5 8 8 8 4 8 6 5 5 8\n",
      " 3 3 8 2 7 3 1 9 8 0 5 7 7 5 4 4 7 2 6 0 7 3 8 3 4 5 6 8 3 4 2 7 1 7 1 8 5\n",
      " 3 6 6 3 7 0 9 8 9 5 1 0 8 9 2 9 8 6 1 4 9 7 9 6 9 0 2 2 3 3 5 4 4 1 0 1 4\n",
      " 2 0 4 6 0 1 8 4 7 6 6 2 8 8 4 0 3 2 0 8 8 2 3 7 8 9 0 7 3 4 4 1 5 1 4 3 4\n",
      " 5 6 8 6 0 7 9 1 4 1 6 8 1 9 2 2 1 3 5 5 8 8 7 2 4 7 1 4 8 7 9 4 3 5 7 8 7\n",
      " 5 8 1 2 7 5 5 5 4 0 0 5 3 8 7 1 0 0 4 8 6 2 1 8 1 2 4 3 2 7 5 1 2 6 8 0 9\n",
      " 0 9 3 9 8 9 2 6 7 7 1 3 3 9 6 0 1 4 0 2 6 3 4 6 6 7 8 0 5 3 7 7 6 2 3 2 8\n",
      " 9 4 0 8 3 6 3 6 7 2 1 5 3 9 6 3 3 8 2 3 9 7 1 7 7 8 4 4 2 3 8 1 3 7 5 6 5\n",
      " 5 1 6 0 2 6 8 8 7 1 6 1 2 8 1 1 1 8 9 7 9 3 1 9 1 1 8 9 4 5 2 9 1 7 2 7 7\n",
      " 0 4 0 6 3 2 7 7 4 3 0 9 9 0 5 3 3 1 9 5 7 3 0 4 6 8 6 2 6 7 4 3 7 4 3 1 4\n",
      " 3 8 6 8 9 5 6 2 0 8 1 8 8 2 5 8 1 4 6 7 4 6 6 3 7 0 7 4 8 3 6 7 4 0 3 1 9\n",
      " 2 7 2 4 4 9 8 4 9 6 7 3 3 7 2 3 7 1 9 6 6 4 4 6 7 3 4 9 5 4 5 6 4 3 0 9 6\n",
      " 9 7 6 1 4 6 9 4 6 8 1 6 6 6 8 9 9 1 9 8 9 7 8 6 2 5 8 0 5 3 4 3 0 3 6 2 0\n",
      " 9 8 1 7 4 1 9 2 1 0 5 9 1 7 1 7 9 8 3 4 2 8 6 2 8 9 9 2 4 2 6 6 0 1 4 5 3\n",
      " 2]\n",
      "Epoch: 4 Accuracy: 0.91\n"
     ]
    }
   ],
   "source": [
    "W1, b1, W2, b2 = gradient_descent(X_train, Y_train, 0.01, 5, 32, 100)"
   ]
  },
  {
   "cell_type": "markdown",
   "id": "bce3336c",
   "metadata": {},
   "source": [
    "#### Evaluating the quality of the Model"
   ]
  },
  {
   "cell_type": "code",
   "execution_count": 27,
   "id": "353a153d",
   "metadata": {},
   "outputs": [],
   "source": [
    "def make_predictions(X, W1, b1, W2, b2):\n",
    "    _, _, _, A2 = forward_propagation(W1, b1, W2, b2, X)\n",
    "    predictions = get_prediction(A2)\n",
    "    return predictions\n",
    "\n",
    "def test_prediction(index, W1, b1, W2, b2):\n",
    "    current_image = X_train[:, index, None]\n",
    "    prediction = make_predictions(X_train[:, index, None], W1, b1, W2, b2)\n",
    "    label = Y_train[index]\n",
    "    print(\"Prediction: \", prediction)\n",
    "    print(\"Label: \", label)\n",
    "    \n",
    "    current_image = current_image.reshape((28, 28)) * 255\n",
    "    plt.gray()\n",
    "    plt.imshow(current_image, interpolation='nearest')\n",
    "    plt.show()"
   ]
  },
  {
   "cell_type": "code",
   "execution_count": 28,
   "id": "972c308e",
   "metadata": {},
   "outputs": [
    {
     "name": "stdout",
     "output_type": "stream",
     "text": [
      "Prediction:  [6]\n",
      "Label:  6\n"
     ]
    },
    {
     "data": {
      "image/png": "[encoded data removed]",
      "text/plain": [
       "<Figure size 640x480 with 1 Axes>"
      ]
     },
     "metadata": {},
     "output_type": "display_data"
    },
    {
     "name": "stdout",
     "output_type": "stream",
     "text": [
      "Prediction:  [8]\n",
      "Label:  8\n"
     ]
    },
    {
     "data": {
      "image/png": "[encoded data removed]",
      "text/plain": [
       "<Figure size 640x480 with 1 Axes>"
      ]
     },
     "metadata": {},
     "output_type": "display_data"
    },
    {
     "name": "stdout",
     "output_type": "stream",
     "text": [
      "Prediction:  [5]\n",
      "Label:  5\n"
     ]
    },
    {
     "data": {
      "image/png": "[encoded data removed]",
      "text/plain": [
       "<Figure size 640x480 with 1 Axes>"
      ]
     },
     "metadata": {},
     "output_type": "display_data"
    },
    {
     "name": "stdout",
     "output_type": "stream",
     "text": [
      "Prediction:  [0]\n",
      "Label:  0\n"
     ]
    },
    {
     "data": {
      "image/png": "[encoded data removed]",
      "text/plain": [
       "<Figure size 640x480 with 1 Axes>"
      ]
     },
     "metadata": {},
     "output_type": "display_data"
    }
   ],
   "source": [
    "test_prediction(0, W1, b1, W2, b2)\n",
    "test_prediction(1, W1, b1, W2, b2)\n",
    "test_prediction(2, W1, b1, W2, b2)\n",
    "test_prediction(3, W1, b1, W2, b2)"
   ]
  }
 ],
 "metadata": {
  "kernelspec": {
   "display_name": "Python 3",
   "language": "python",
   "name": "python3"
  },
  "language_info": {
   "codemirror_mode": {
    "name": "ipython",
    "version": 3
   },
   "file_extension": ".py",
   "mimetype": "text/x-python",
   "name": "python",
   "nbconvert_exporter": "python",
   "pygments_lexer": "ipython3",
   "version": "3.10.12"
  }
 },
 "nbformat": 4,
 "nbformat_minor": 5
}
